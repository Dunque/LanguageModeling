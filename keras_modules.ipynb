{
  "nbformat": 4,
  "nbformat_minor": 0,
  "metadata": {
    "colab": {
      "name": "keras_modules.ipynb",
      "provenance": [],
      "collapsed_sections": []
    },
    "kernelspec": {
      "name": "python3",
      "display_name": "Python 3"
    },
    "language_info": {
      "name": "python"
    }
  },
  "cells": [
    {
      "cell_type": "markdown",
      "source": [
        "**Some Keras modules that we will be using for our LSTM model:**\n",
        "\n",
        "- https://keras.io/api/models/sequential/\n",
        "- https://keras.io/api/layers/core_layers/embedding/\n",
        "- https://keras.io/api/layers/core_layers/dense/\n",
        "- https://keras.io/api/layers/recurrent_layers/lstm/\n",
        "- https://www.tensorflow.org/api_docs/python/tf/keras/utils/to_categorical\n",
        "- https://www.tensorflow.org/api_docs/python/tf/keras/preprocessing/sequence/pad_sequences\n"
      ],
      "metadata": {
        "id": "ymx3lVwVFerM"
      }
    },
    {
      "cell_type": "markdown",
      "source": [
        "**Keras modules requires to create our LSTM model**"
      ],
      "metadata": {
        "id": "a9MYjOxXIImO"
      }
    },
    {
      "cell_type": "code",
      "execution_count": null,
      "metadata": {
        "colab": {
          "base_uri": "https://localhost:8080/"
        },
        "id": "yIZghlwaD3pL",
        "outputId": "cf12cc40-4819-418e-bc46-b863332fc4c4"
      },
      "outputs": [
        {
          "output_type": "stream",
          "name": "stdout",
          "text": [
            "Model: \"sequential\"\n",
            "_________________________________________________________________\n",
            " Layer (type)                Output Shape              Param #   \n",
            "=================================================================\n",
            " embedding (Embedding)       (None, 10, 20)            1000      \n",
            "                                                                 \n",
            " lstm (LSTM)                 (None, 64)                21760     \n",
            "                                                                 \n",
            " dense (Dense)               (None, 50)                3250      \n",
            "                                                                 \n",
            "=================================================================\n",
            "Total params: 26,010\n",
            "Trainable params: 26,010\n",
            "Non-trainable params: 0\n",
            "_________________________________________________________________\n"
          ]
        }
      ],
      "source": [
        "from tensorflow.keras import Sequential\n",
        "from tensorflow.keras.layers import Embedding, Dense, LSTM\n",
        "from tensorflow.keras.utils import to_categorical\n",
        "from tensorflow.keras.preprocessing.sequence import pad_sequences\n",
        "\n",
        "\n",
        "dummy_num_words = 50\n",
        "dummy_emb_dim = 20\n",
        "max_seq_length = 10\n",
        "lstm_out_dim = 64\n",
        "\n",
        "model = Sequential()\n",
        "model.add(Embedding(dummy_num_words, dummy_emb_dim, input_length=10))\n",
        "model.add(LSTM(lstm_out_dim))\n",
        "model.add(Dense(dummy_num_words, activation='softmax'))\n",
        "\n",
        "model.summary()\n",
        "\n"
      ]
    },
    {
      "cell_type": "markdown",
      "source": [
        "**We can save the model after training is finished** (ignore the WARNING for this specific example)"
      ],
      "metadata": {
        "id": "mKbvEr48Puet"
      }
    },
    {
      "cell_type": "code",
      "source": [
        "model.save(\"dummy_model.h5\")"
      ],
      "metadata": {
        "colab": {
          "base_uri": "https://localhost:8080/"
        },
        "id": "TWQnZ-lMPxyV",
        "outputId": "41ac15c7-4e65-452c-ac3c-6e5fbecebb00"
      },
      "execution_count": null,
      "outputs": [
        {
          "output_type": "stream",
          "name": "stdout",
          "text": [
            "WARNING:tensorflow:Compiled the loaded model, but the compiled metrics have yet to be built. `model.compile_metrics` will be empty until you train or evaluate the model.\n"
          ]
        }
      ]
    },
    {
      "cell_type": "markdown",
      "source": [
        "**We also can load the model to use it anytime later**"
      ],
      "metadata": {
        "id": "5_fpp3lbRyxH"
      }
    },
    {
      "cell_type": "code",
      "source": [
        "import tensorflow\n",
        "model = tensorflow.keras.models.load_model(\"dummy_model.h5\")\n",
        "\n",
        "model.summary()"
      ],
      "metadata": {
        "colab": {
          "base_uri": "https://localhost:8080/"
        },
        "id": "d_wStL7xSQ2O",
        "outputId": "fdc73087-a15f-4e48-939e-d903314b21cf"
      },
      "execution_count": null,
      "outputs": [
        {
          "output_type": "stream",
          "name": "stdout",
          "text": [
            "WARNING:tensorflow:No training configuration found in the save file, so the model was *not* compiled. Compile it manually.\n",
            "Model: \"sequential\"\n",
            "_________________________________________________________________\n",
            " Layer (type)                Output Shape              Param #   \n",
            "=================================================================\n",
            " embedding (Embedding)       (None, 10, 20)            1000      \n",
            "                                                                 \n",
            " lstm (LSTM)                 (None, 64)                21760     \n",
            "                                                                 \n",
            " dense (Dense)               (None, 50)                3250      \n",
            "                                                                 \n",
            "=================================================================\n",
            "Total params: 26,010\n",
            "Trainable params: 26,010\n",
            "Non-trainable params: 0\n",
            "_________________________________________________________________\n"
          ]
        }
      ]
    },
    {
      "cell_type": "markdown",
      "source": [
        "**pad_sequences: pads contexts that have less than max_seq_length words. For instance:**"
      ],
      "metadata": {
        "id": "DsAMaShdIqd1"
      }
    },
    {
      "cell_type": "code",
      "source": [
        "sequences = [[1],[3,2],[4,5,7,8]]\n",
        "pad_sequences(sequences)"
      ],
      "metadata": {
        "id": "w2PwevctIP5U",
        "colab": {
          "base_uri": "https://localhost:8080/"
        },
        "outputId": "6612c01d-e62c-44b9-ed9c-c0885a35292f"
      },
      "execution_count": null,
      "outputs": [
        {
          "output_type": "execute_result",
          "data": {
            "text/plain": [
              "array([[0, 0, 0, 1],\n",
              "       [0, 0, 3, 2],\n",
              "       [4, 5, 7, 8]], dtype=int32)"
            ]
          },
          "metadata": {},
          "execution_count": 17
        }
      ]
    },
    {
      "cell_type": "markdown",
      "source": [
        "**to_categorical: transforms a set of discrete classes into their one-hot representation**\n"
      ],
      "metadata": {
        "id": "oOaYVm_jGgPW"
      }
    },
    {
      "cell_type": "code",
      "source": [
        "import tensorflow\n",
        "discrete_classes = [0, 1, 2, 3, 0]\n",
        "print (\"Discrete classes:\", discrete_classes)\n",
        "categorical_classes = tensorflow.keras.utils.to_categorical(discrete_classes, num_classes=len(set(discrete_classes)))\n",
        "print (\"Categorical classes:\")\n",
        "print (categorical_classes)"
      ],
      "metadata": {
        "colab": {
          "base_uri": "https://localhost:8080/"
        },
        "id": "Q5eXyFwmGfvg",
        "outputId": "933f5e0b-829d-4f9c-efb5-2f8dd8946630"
      },
      "execution_count": null,
      "outputs": [
        {
          "output_type": "stream",
          "name": "stdout",
          "text": [
            "Discrete classes: [0, 1, 2, 3, 0]\n",
            "Categorical classes:\n",
            "[[1. 0. 0. 0.]\n",
            " [0. 1. 0. 0.]\n",
            " [0. 0. 1. 0.]\n",
            " [0. 0. 0. 1.]\n",
            " [1. 0. 0. 0.]]\n"
          ]
        }
      ]
    }
  ]
}