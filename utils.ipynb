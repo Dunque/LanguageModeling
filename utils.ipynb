{
  "nbformat": 4,
  "nbformat_minor": 0,
  "metadata": {
    "colab": {
      "name": "utils.ipynb",
      "provenance": []
    },
    "kernelspec": {
      "name": "python3",
      "display_name": "Python 3"
    },
    "language_info": {
      "name": "python"
    }
  },
  "cells": [
    {
      "cell_type": "markdown",
      "source": [
        "# **Useful functions for your lab assigments**\n",
        "\n"
      ],
      "metadata": {
        "id": "_va5zRB7aCMT"
      }
    },
    {
      "cell_type": "markdown",
      "source": [
        "**numpy.argmax: Returns the indices of the maximum values along an axis. See: https://numpy.org/doc/stable/reference/generated/numpy.argmax.html**"
      ],
      "metadata": {
        "id": "PL19eRkPbg8T"
      }
    },
    {
      "cell_type": "code",
      "execution_count": 8,
      "metadata": {
        "colab": {
          "base_uri": "https://localhost:8080/"
        },
        "id": "YEbmKUJBZ--a",
        "outputId": "d47b3c1d-9d4a-4b5d-f0f3-936f739696a2"
      },
      "outputs": [
        {
          "output_type": "stream",
          "name": "stdout",
          "text": [
            "Sample array\n",
            "[0.72222237 0.72396647 0.35957462 0.33801774 0.70919254 0.04038155\n",
            " 0.36657701 0.27149214 0.23519519 0.18109302]\n",
            "Index 1 has the highest value (0.7239664717539765) of the array\n"
          ]
        }
      ],
      "source": [
        "import numpy as np\n",
        "array = np.random.rand(10)\n",
        "print (\"Sample array\")\n",
        "print (array)\n",
        "idxmax = np.argmax(array)\n",
        "print (\"Index {} has the highest value ({}) of the array\".format(idxmax, array[idxmax]))"
      ]
    },
    {
      "cell_type": "markdown",
      "source": [
        "**np.random.choice: Generates a random sample from a given 1-D array. See: https://numpy.org/doc/stable/reference/random/generated/numpy.random.choice.html**"
      ],
      "metadata": {
        "id": "hlJDSxMVlGIo"
      }
    },
    {
      "cell_type": "code",
      "source": [
        "import numpy as np\n",
        "from collections import Counter\n",
        "array = np.array([\"happy\",\"sad\",\"angry\",\"neutral\"])\n",
        "probs = [0.5, 0.25, 0.20, 0.05]\n",
        "\n",
        "my_emotions = []\n",
        "for _ in range(1000):\n",
        "  selected = np.random.choice(array, p=probs)\n",
        "  my_emotions.append(selected)\n",
        "print (Counter(my_emotions))\n"
      ],
      "metadata": {
        "colab": {
          "base_uri": "https://localhost:8080/"
        },
        "id": "QwDkpuWalFwu",
        "outputId": "118c4d2c-1d31-4192-8b05-6303bce6a17c"
      },
      "execution_count": 7,
      "outputs": [
        {
          "output_type": "stream",
          "name": "stdout",
          "text": [
            "Counter({'happy': 502, 'sad': 244, 'angry': 202, 'neutral': 52})\n"
          ]
        }
      ]
    },
    {
      "cell_type": "markdown",
      "source": [
        "**numpy.argsort: Useful to extract the indexes that contain the n smallest/largest values. See: https://numpy.org/doc/stable/reference/generated/numpy.argsort.html**\n"
      ],
      "metadata": {
        "id": "dSS2-jHMqaOt"
      }
    },
    {
      "cell_type": "code",
      "source": [
        "import numpy as np\n",
        "array = np.random.rand(10)\n",
        "print (\"Sample array\")\n",
        "print (array)\n",
        "print (\"Indexes with the highest values\")\n",
        "print (list(reversed(np.argsort(array))))"
      ],
      "metadata": {
        "colab": {
          "base_uri": "https://localhost:8080/"
        },
        "id": "iKHgFkvHAFVD",
        "outputId": "e86768ec-291f-4312-b220-3b3530b56105"
      },
      "execution_count": 2,
      "outputs": [
        {
          "output_type": "stream",
          "name": "stdout",
          "text": [
            "Sample array\n",
            "[0.34185282 0.26726442 0.11597971 0.10572354 0.04352063 0.70044975\n",
            " 0.56142825 0.93788598 0.93720924 0.55017622]\n",
            "Indexes with the highest values\n",
            "[7, 8, 5, 6, 9, 0, 1, 2, 3, 4]\n"
          ]
        }
      ]
    },
    {
      "cell_type": "markdown",
      "source": [
        "**tqdm - Helps estimate the computation time of a loop**"
      ],
      "metadata": {
        "id": "RF_ZtTdiBafZ"
      }
    },
    {
      "cell_type": "code",
      "source": [
        "import tqdm\n",
        "import time\n",
        "\n",
        "for i in tqdm.tqdm(range(1000)):\n",
        "  time.sleep(0.005)"
      ],
      "metadata": {
        "colab": {
          "base_uri": "https://localhost:8080/"
        },
        "id": "-pZMrAt7B1_5",
        "outputId": "27720386-43ef-49bb-8688-79e9403e802a"
      },
      "execution_count": 1,
      "outputs": [
        {
          "output_type": "stream",
          "name": "stderr",
          "text": [
            "100%|██████████| 1000/1000 [00:05<00:00, 188.19it/s]\n"
          ]
        }
      ]
    }
  ]
}