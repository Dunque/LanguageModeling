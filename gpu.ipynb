{
  "nbformat": 4,
  "nbformat_minor": 0,
  "metadata": {
    "colab": {
      "name": "gpu.ipynb",
      "provenance": []
    },
    "kernelspec": {
      "name": "python3",
      "display_name": "Python 3"
    },
    "language_info": {
      "name": "python"
    },
    "accelerator": "GPU"
  },
  "cells": [
    {
      "cell_type": "markdown",
      "source": [
        "# **How to set GPU suppport in Colab**\n",
        "\n",
        "Go to Edit -> Notebook Settings -> Hardware accelerator (set GPU or TPU)\n"
      ],
      "metadata": {
        "id": "h4o_INDOLM8j"
      }
    },
    {
      "cell_type": "code",
      "execution_count": 1,
      "metadata": {
        "colab": {
          "base_uri": "https://localhost:8080/"
        },
        "id": "NSXKIlMNIz5l",
        "outputId": "06db2891-29cc-490f-d382-8dd04b7ae453"
      },
      "outputs": [
        {
          "output_type": "stream",
          "name": "stdout",
          "text": [
            "Current keras version:  2.8.0\n",
            "Available resources:  [name: \"/device:CPU:0\"\n",
            "device_type: \"CPU\"\n",
            "memory_limit: 268435456\n",
            "locality {\n",
            "}\n",
            "incarnation: 16584866914238996280\n",
            "xla_global_id: -1\n",
            ", name: \"/device:GPU:0\"\n",
            "device_type: \"GPU\"\n",
            "memory_limit: 11320098816\n",
            "locality {\n",
            "  bus_id: 1\n",
            "  links {\n",
            "  }\n",
            "}\n",
            "incarnation: 11748818886954048029\n",
            "physical_device_desc: \"device: 0, name: Tesla K80, pci bus id: 0000:00:04.0, compute capability: 3.7\"\n",
            "xla_global_id: 416903419\n",
            "]\n"
          ]
        }
      ],
      "source": [
        "import tensorflow\n",
        "from tensorflow.python.client import device_lib\n",
        "\n",
        "print (\"Current keras version: \", tensorflow.keras.__version__)\n",
        "print (\"Available resources: \", device_lib.list_local_devices())"
      ]
    }
  ]
}